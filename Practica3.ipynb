{
  "nbformat": 4,
  "nbformat_minor": 0,
  "metadata": {
    "colab": {
      "provenance": [],
      "authorship_tag": "ABX9TyPbAsJTdBv8MPyy+1Q+PyQY",
      "include_colab_link": true
    },
    "kernelspec": {
      "name": "python3",
      "display_name": "Python 3"
    },
    "language_info": {
      "name": "python"
    }
  },
  "cells": [
    {
      "cell_type": "markdown",
      "metadata": {
        "id": "view-in-github",
        "colab_type": "text"
      },
      "source": [
        "<a href=\"https://colab.research.google.com/github/Estrella-SalasC/CD_staticExample/blob/master/Practica3.ipynb\" target=\"_parent\"><img src=\"https://colab.research.google.com/assets/colab-badge.svg\" alt=\"Open In Colab\"/></a>"
      ]
    },
    {
      "cell_type": "code",
      "execution_count": 1,
      "metadata": {
        "colab": {
          "base_uri": "https://localhost:8080/"
        },
        "id": "aN-OgEXx3GeO",
        "outputId": "b1334410-af33-4c0e-c08e-10ce6a59335c"
      },
      "outputs": [
        {
          "output_type": "stream",
          "name": "stdout",
          "text": [
            "Ingresa la primera calificación: 9\n",
            "Ingresa la segunda calificación: 10\n",
            "Ingresa la tercer calificación: 9.5\n",
            "Ingresa la cuarta calificación: 8\n",
            "Ingresa la quinta calificación: 7\n",
            "El promedio es: 8.7\n"
          ]
        }
      ],
      "source": [
        "# Programa 3. Promedio de 5 calificaciones\n",
        "\n",
        "# Pedir al usuario las calificaciones\n",
        "num1 = float(input(\"Ingresa la primera calificación: \"))\n",
        "num2 = float(input(\"Ingresa la segunda calificación: \"))\n",
        "num3 = float(input(\"Ingresa la tercer calificación: \"))\n",
        "num4 = float(input(\"Ingresa la cuarta calificación: \"))\n",
        "num5 = float(input(\"Ingresa la quinta calificación: \"))\n",
        "\n",
        "\n",
        "# Realizar la operación\n",
        "promedio = (num1 + num2 + num3 + num4 + num5)/5\n",
        "\n",
        "# Mostrar el resultado\n",
        "print(\"El promedio es:\", promedio)"
      ]
    }
  ]
}